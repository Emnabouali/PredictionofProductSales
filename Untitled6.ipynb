{
  "nbformat": 4,
  "nbformat_minor": 0,
  "metadata": {
    "colab": {
      "provenance": [],
      "authorship_tag": "ABX9TyP8QCJ5EEtl1hcqbE6Zo7F7",
      "include_colab_link": true
    },
    "kernelspec": {
      "name": "python3",
      "display_name": "Python 3"
    },
    "language_info": {
      "name": "python"
    }
  },
  "cells": [
    {
      "cell_type": "markdown",
      "metadata": {
        "id": "view-in-github",
        "colab_type": "text"
      },
      "source": [
        "<a href=\"https://colab.research.google.com/github/Emnabouali/PredictionofProductSales/blob/main/Untitled6.ipynb\" target=\"_parent\"><img src=\"https://colab.research.google.com/assets/colab-badge.svg\" alt=\"Open In Colab\"/></a>"
      ]
    },
    {
      "cell_type": "code",
      "execution_count": 1,
      "metadata": {
        "colab": {
          "base_uri": "https://localhost:8080/"
        },
        "id": "yol_5bZOLGGP",
        "outputId": "c6dab1eb-bb1d-4867-db40-418b912976aa"
      },
      "outputs": [
        {
          "output_type": "stream",
          "name": "stdout",
          "text": [
            "Mounted at /content/drive\n"
          ]
        }
      ],
      "source": [
        "from google.colab import drive\n",
        "drive.mount('/content/drive')"
      ]
    },
    {
      "cell_type": "code",
      "source": [
        "import pandas as pd\n",
        "from sklearn.pipeline import Pipeline\n",
        "from sklearn.compose import ColumnTransformer\n",
        "from sklearn.preprocessing import OneHotEncoder, StandardScaler\n",
        "\n",
        "file_path = '/content/drive/MyDrive/Colab Notebooks/sales_predictions_2023 (1).csv'\n",
        "df = pd.read_csv(file_path)\n",
        "print(df.head())"
      ],
      "metadata": {
        "colab": {
          "base_uri": "https://localhost:8080/"
        },
        "id": "PrGG9OMhLP_A",
        "outputId": "5a70b942-3527-4388-818b-d8b5d0e05c49"
      },
      "execution_count": 2,
      "outputs": [
        {
          "output_type": "stream",
          "name": "stdout",
          "text": [
            "  Item_Identifier  Item_Weight Item_Fat_Content  Item_Visibility  \\\n",
            "0           FDA15         9.30          Low Fat         0.016047   \n",
            "1           DRC01         5.92          Regular         0.019278   \n",
            "2           FDN15        17.50          Low Fat         0.016760   \n",
            "3           FDX07        19.20          Regular         0.000000   \n",
            "4           NCD19         8.93          Low Fat         0.000000   \n",
            "\n",
            "               Item_Type  Item_MRP Outlet_Identifier  \\\n",
            "0                  Dairy  249.8092            OUT049   \n",
            "1            Soft Drinks   48.2692            OUT018   \n",
            "2                   Meat  141.6180            OUT049   \n",
            "3  Fruits and Vegetables  182.0950            OUT010   \n",
            "4              Household   53.8614            OUT013   \n",
            "\n",
            "   Outlet_Establishment_Year Outlet_Size Outlet_Location_Type  \\\n",
            "0                       1999      Medium               Tier 1   \n",
            "1                       2009      Medium               Tier 3   \n",
            "2                       1999      Medium               Tier 1   \n",
            "3                       1998         NaN               Tier 3   \n",
            "4                       1987        High               Tier 3   \n",
            "\n",
            "         Outlet_Type  Item_Outlet_Sales  \n",
            "0  Supermarket Type1          3735.1380  \n",
            "1  Supermarket Type2           443.4228  \n",
            "2  Supermarket Type1          2097.2700  \n",
            "3      Grocery Store           732.3800  \n",
            "4  Supermarket Type1           994.7052  \n"
          ]
        }
      ]
    },
    {
      "cell_type": "code",
      "source": [
        "import pandas as pd\n",
        "\n",
        "file_path = '/content/drive/MyDrive/Colab Notebooks/sales_predictions_2023 (1).csv'\n",
        "donnees_originales = pd.read_csv(file_path)\n",
        "\n",
        "donnees_originales = donnees_originales.drop_duplicates()\n",
        "\n",
        "donnees_originales['Item_Fat_Content'] = donnees_originales['Item_Fat_Content'].str.lower()\n",
        "\n",
        "X = donnees_originales.drop(columns=['Item_Outlet_Sales'])\n",
        "y = donnees_originales['Item_Outlet_Sales']\n",
        "\n"
      ],
      "metadata": {
        "id": "fvUEN9XNL56w"
      },
      "execution_count": 3,
      "outputs": []
    },
    {
      "cell_type": "code",
      "source": [
        "import pandas as pd\n",
        "file_path = '/content/drive/MyDrive/Colab Notebooks/sales_predictions_2023 (1).csv'\n",
        "donnees_originales = pd.read_csv(file_path)\n",
        "\n",
        "donnees_originales = donnees_originales.drop_duplicates()\n",
        "\n",
        "donnees_originales['Item_Fat_Content'] = donnees_originales['Item_Fat_Content'].str.lower()\n",
        "\n",
        "X = donnees_originales.drop(columns=['Item_Outlet_Sales'])\n",
        "y = donnees_originales['Item_Outlet_Sales']\n"
      ],
      "metadata": {
        "id": "qCdj1NRxMbGF"
      },
      "execution_count": 4,
      "outputs": []
    },
    {
      "cell_type": "code",
      "source": [
        "import pandas as pd\n",
        "\n",
        "file_path = '/content/drive/MyDrive/Colab Notebooks/sales_predictions_2023 (1).csv'\n",
        "donnees_originales = pd.read_csv(file_path)\n",
        "\n",
        "\n",
        "donnees_originales = donnees_originales.drop_duplicates()\n",
        "donnees_originales = donnees_originales.drop(columns=['Item_Identifier'])\n",
        "\n",
        "donnees_originales['Item_Fat_Content'] = donnees_originales['Item_Fat_Content'].str.lower()\n",
        "\n",
        "X = donnees_originales.drop(columns=['Item_Outlet_Sales'])\n",
        "y = donnees_originales['Item_Outlet_Sales']\n"
      ],
      "metadata": {
        "id": "NzOaD6ubMrjH"
      },
      "execution_count": 5,
      "outputs": []
    },
    {
      "cell_type": "code",
      "source": [
        "from sklearn.model_selection import train_test_split\n",
        "\n",
        "X_train, X_test, y_train, y_test = train_test_split(X, y, test_size=0.2, random_state=42)\n",
        "\n",
        "print(\"Training set size (X_train):\", X_train.shape)\n",
        "print(\"Test set size (X_test):\", X_test.shape)\n",
        "print(\"Training set size (y_train):\", y_train.shape)\n",
        "print(\"Test set size (y_test):\", y_test.shape)\n"
      ],
      "metadata": {
        "colab": {
          "base_uri": "https://localhost:8080/"
        },
        "id": "mNbKjAx9NFbn",
        "outputId": "7d920391-49a9-4232-8c30-dc8e00c351bc"
      },
      "execution_count": 6,
      "outputs": [
        {
          "output_type": "stream",
          "name": "stdout",
          "text": [
            "Training set size (X_train): (6818, 10)\n",
            "Test set size (X_test): (1705, 10)\n",
            "Training set size (y_train): (6818,)\n",
            "Test set size (y_test): (1705,)\n"
          ]
        }
      ]
    },
    {
      "cell_type": "code",
      "source": [
        "from sklearn.compose import ColumnTransformer\n",
        "from sklearn.pipeline import Pipeline\n",
        "from sklearn.impute import SimpleImputer\n",
        "from sklearn.preprocessing import StandardScaler, OneHotEncoder\n",
        "from sklearn.model_selection import train_test_split\n",
        "\n",
        "file_path = '/content/drive/MyDrive/Colab Notebooks/sales_predictions_2023 (1).csv'\n",
        "donnees_originales = pd.read_csv(file_path)\n",
        "\n",
        "donnees_originales = donnees_originales.drop_duplicates()\n",
        "donnees_originales = donnees_originales.drop(columns=['Item_Identifier'])\n",
        "\n",
        "numerical_features = donnees_originales.select_dtypes(include=['int64', 'float64']).columns.tolist()\n",
        "categorical_features = donnees_originales.select_dtypes(include=['object']).columns.tolist()\n",
        "\n",
        "numerical_transformer = Pipeline(steps=[\n",
        "    ('imputer', SimpleImputer(strategy='mean')),\n",
        "    ('scaler', StandardScaler())\n",
        "])\n",
        "\n",
        "categorical_transformer = Pipeline(steps=[\n",
        "    ('imputer', SimpleImputer(strategy='most_frequent')),\n",
        "    ('onehot', OneHotEncoder(handle_unknown='ignore'))\n",
        "])\n",
        "\n",
        "preprocessor = ColumnTransformer(\n",
        "    transformers=[\n",
        "        ('num', numerical_transformer, numerical_features),\n",
        "        ('cat', categorical_transformer, categorical_features)\n",
        "    ])\n",
        "\n",
        "X = donnees_originales.drop(columns=['Item_Outlet_Sales'])\n",
        "y = donnees_originales['Item_Outlet_Sales']\n",
        "\n",
        "X_train, X_test, y_train, y_test = train_test_split(X, y, test_size=0.2, random_state=42)\n"
      ],
      "metadata": {
        "id": "bH7MO4WR-h2b"
      },
      "execution_count": 10,
      "outputs": []
    },
    {
      "cell_type": "code",
      "source": [
        "print(\"Taille de l'ensemble d'entraînement (X_train) :\", X_train.shape)\n",
        "print(\"Taille de l'ensemble de test (X_test) :\", X_test.shape)\n",
        "print(\"Taille de l'ensemble d'entraînement (y_train) :\", y_train.shape)\n",
        "print(\"Taille de l'ensemble de test (y_test) :\", y_test.shape)\n"
      ],
      "metadata": {
        "colab": {
          "base_uri": "https://localhost:8080/"
        },
        "id": "CDdivFbF-6DZ",
        "outputId": "846468b4-c738-43bb-c283-fe671bd54253"
      },
      "execution_count": 11,
      "outputs": [
        {
          "output_type": "stream",
          "name": "stdout",
          "text": [
            "Taille de l'ensemble d'entraînement (X_train) : (6818, 10)\n",
            "Taille de l'ensemble de test (X_test) : (1705, 10)\n",
            "Taille de l'ensemble d'entraînement (y_train) : (6818,)\n",
            "Taille de l'ensemble de test (y_test) : (1705,)\n"
          ]
        }
      ]
    },
    {
      "cell_type": "code",
      "source": [
        "print(donnees_originales.head())\n"
      ],
      "metadata": {
        "colab": {
          "base_uri": "https://localhost:8080/"
        },
        "id": "YI036WYhBjU1",
        "outputId": "4bd5d18d-2e5e-4cc2-958f-0ccdc08d04ce"
      },
      "execution_count": 14,
      "outputs": [
        {
          "output_type": "stream",
          "name": "stdout",
          "text": [
            "   Item_Weight Item_Fat_Content  Item_Visibility              Item_Type  \\\n",
            "0         9.30          Low Fat         0.016047                  Dairy   \n",
            "1         5.92          Regular         0.019278            Soft Drinks   \n",
            "2        17.50          Low Fat         0.016760                   Meat   \n",
            "3        19.20          Regular         0.000000  Fruits and Vegetables   \n",
            "4         8.93          Low Fat         0.000000              Household   \n",
            "\n",
            "   Item_MRP Outlet_Identifier  Outlet_Establishment_Year Outlet_Size  \\\n",
            "0  249.8092            OUT049                       1999      Medium   \n",
            "1   48.2692            OUT018                       2009      Medium   \n",
            "2  141.6180            OUT049                       1999      Medium   \n",
            "3  182.0950            OUT010                       1998         NaN   \n",
            "4   53.8614            OUT013                       1987        High   \n",
            "\n",
            "  Outlet_Location_Type        Outlet_Type  Item_Outlet_Sales  \n",
            "0               Tier 1  Supermarket Type1          3735.1380  \n",
            "1               Tier 3  Supermarket Type2           443.4228  \n",
            "2               Tier 1  Supermarket Type1          2097.2700  \n",
            "3               Tier 3      Grocery Store           732.3800  \n",
            "4               Tier 3  Supermarket Type1           994.7052  \n"
          ]
        }
      ]
    },
    {
      "cell_type": "code",
      "source": [
        "print(donnees_originales.columns)\n"
      ],
      "metadata": {
        "colab": {
          "base_uri": "https://localhost:8080/"
        },
        "id": "_rzikYFBBtW_",
        "outputId": "311b03d5-c99c-432a-8551-dc8688feb71d"
      },
      "execution_count": 15,
      "outputs": [
        {
          "output_type": "stream",
          "name": "stdout",
          "text": [
            "Index(['Item_Weight', 'Item_Fat_Content', 'Item_Visibility', 'Item_Type',\n",
            "       'Item_MRP', 'Outlet_Identifier', 'Outlet_Establishment_Year',\n",
            "       'Outlet_Size', 'Outlet_Location_Type', 'Outlet_Type',\n",
            "       'Item_Outlet_Sales'],\n",
            "      dtype='object')\n"
          ]
        }
      ]
    },
    {
      "cell_type": "code",
      "source": [
        "print(X_train.head())\n"
      ],
      "metadata": {
        "colab": {
          "base_uri": "https://localhost:8080/"
        },
        "id": "Catg4cOvEWh3",
        "outputId": "391d6222-77ed-4f66-e61a-66801ad6210d"
      },
      "execution_count": 18,
      "outputs": [
        {
          "output_type": "stream",
          "name": "stdout",
          "text": [
            "      Item_Weight Item_Fat_Content  Item_Visibility              Item_Type  \\\n",
            "549         9.500          Regular         0.035206  Fruits and Vegetables   \n",
            "7757       18.000          Low Fat         0.047473              Household   \n",
            "764        17.600          Regular         0.076122                   Meat   \n",
            "6867        8.325          Low Fat         0.029845  Fruits and Vegetables   \n",
            "2716       12.850          Low Fat         0.137228            Snack Foods   \n",
            "\n",
            "      Item_MRP Outlet_Identifier  Outlet_Establishment_Year Outlet_Size  \\\n",
            "549   171.3448            OUT049                       1999      Medium   \n",
            "7757  170.5422            OUT045                       2002         NaN   \n",
            "764   111.7202            OUT046                       1997       Small   \n",
            "6867   41.6138            OUT045                       2002         NaN   \n",
            "2716  155.5630            OUT046                       1997       Small   \n",
            "\n",
            "     Outlet_Location_Type        Outlet_Type  \n",
            "549                Tier 1  Supermarket Type1  \n",
            "7757               Tier 2  Supermarket Type1  \n",
            "764                Tier 1  Supermarket Type1  \n",
            "6867               Tier 2  Supermarket Type1  \n",
            "2716               Tier 1  Supermarket Type1  \n"
          ]
        }
      ]
    },
    {
      "cell_type": "code",
      "source": [
        "print(X_train.isnull().sum())\n"
      ],
      "metadata": {
        "colab": {
          "base_uri": "https://localhost:8080/"
        },
        "id": "WukbA9_QEdLi",
        "outputId": "587f1e90-4c2a-4cc8-bcd5-d4779030fc07"
      },
      "execution_count": 19,
      "outputs": [
        {
          "output_type": "stream",
          "name": "stdout",
          "text": [
            "Item_Weight                  1174\n",
            "Item_Fat_Content                0\n",
            "Item_Visibility                 0\n",
            "Item_Type                       0\n",
            "Item_MRP                        0\n",
            "Outlet_Identifier               0\n",
            "Outlet_Establishment_Year       0\n",
            "Outlet_Size                  1935\n",
            "Outlet_Location_Type            0\n",
            "Outlet_Type                     0\n",
            "dtype: int64\n"
          ]
        }
      ]
    },
    {
      "cell_type": "code",
      "source": [
        "# Diviser les données en caractéristiques (X) et variable cible (y)\n",
        "X = donnees_originales.drop(columns=['Item_Outlet_Sales'])\n",
        "y = donnees_originales['Item_Outlet_Sales']\n",
        "\n",
        "# Effectuer la division train-test\n",
        "X_train, X_test, y_train, y_test = train_test_split(X, y, test_size=0.2, random_state=42)\n"
      ],
      "metadata": {
        "id": "m5l-FcM2E-VU"
      },
      "execution_count": 29,
      "outputs": []
    },
    {
      "cell_type": "code",
      "source": [
        "print(donnees_originales.columns)\n"
      ],
      "metadata": {
        "colab": {
          "base_uri": "https://localhost:8080/"
        },
        "id": "6Dn81RNHGFRn",
        "outputId": "db5a5975-9ac2-40a4-eb30-b5fcc5849b1a"
      },
      "execution_count": 30,
      "outputs": [
        {
          "output_type": "stream",
          "name": "stdout",
          "text": [
            "Index(['Item_Weight', 'Item_Fat_Content', 'Item_Visibility', 'Item_Type',\n",
            "       'Item_MRP', 'Outlet_Identifier', 'Outlet_Establishment_Year',\n",
            "       'Outlet_Size', 'Outlet_Location_Type', 'Outlet_Type',\n",
            "       'Item_Outlet_Sales'],\n",
            "      dtype='object')\n"
          ]
        }
      ]
    },
    {
      "cell_type": "code",
      "source": [
        "print(donnees_originales.columns)\n"
      ],
      "metadata": {
        "colab": {
          "base_uri": "https://localhost:8080/"
        },
        "id": "HCwYMPP_Gzcu",
        "outputId": "2f53e3dc-39ad-4d2c-f07e-d64e7689a56d"
      },
      "execution_count": 31,
      "outputs": [
        {
          "output_type": "stream",
          "name": "stdout",
          "text": [
            "Index(['Item_Weight', 'Item_Fat_Content', 'Item_Visibility', 'Item_Type',\n",
            "       'Item_MRP', 'Outlet_Identifier', 'Outlet_Establishment_Year',\n",
            "       'Outlet_Size', 'Outlet_Location_Type', 'Outlet_Type',\n",
            "       'Item_Outlet_Sales'],\n",
            "      dtype='object')\n"
          ]
        }
      ]
    },
    {
      "cell_type": "code",
      "source": [
        "from sklearn.compose import ColumnTransformer\n",
        "from sklearn.pipeline import Pipeline\n",
        "from sklearn.impute import SimpleImputer\n",
        "from sklearn.preprocessing import StandardScaler, OneHotEncoder\n",
        "from sklearn.model_selection import train_test_split\n",
        "import pandas as pd\n",
        "\n",
        "# Charger le jeu de données\n",
        "file_path = '/content/drive/MyDrive/Colab Notebooks/sales_predictions_2023 (1).csv'\n",
        "donnees_originales = pd.read_csv(file_path)\n",
        "\n",
        "# Supprimer les doublons\n",
        "donnees_originales = donnees_originales.drop_duplicates()\n",
        "\n",
        "# Supprimer la colonne \"Item_Identifier\"\n",
        "donnees_originales = donnees_originales.drop(columns=['Item_Identifier'])\n",
        "\n",
        "# Diviser les données en caractéristiques (X) et variable cible (y)\n",
        "X = donnees_originales.drop(columns=['Item_Outlet_Sales'])\n",
        "y = donnees_originales['Item_Outlet_Sales']\n",
        "\n",
        "# Effectuer la division train-test\n",
        "X_train, X_test, y_train, y_test = train_test_split(X, y, test_size=0.2, random_state=42)\n",
        "\n",
        "# Définir les caractéristiques numériques et catégorielles\n",
        "numerical_features = X.select_dtypes(include=['int64', 'float64']).columns.tolist()\n",
        "categorical_features = X.select_dtypes(include=['object']).columns.tolist()\n",
        "\n",
        "# Définir les étapes de prétraitement pour les caractéristiques numériques\n",
        "numerical_transformer = Pipeline(steps=[\n",
        "    ('imputer', SimpleImputer(strategy='mean')),\n",
        "    ('scaler', StandardScaler())\n",
        "])\n",
        "\n",
        "# Définir les étapes de prétraitement pour les caractéristiques catégorielles\n",
        "categorical_transformer = Pipeline(steps=[\n",
        "    ('imputer', SimpleImputer(strategy='most_frequent')),\n",
        "    ('onehot', OneHotEncoder(handle_unknown='ignore'))\n",
        "])\n",
        "\n",
        "# Combinez les étapes de prétraitement pour les caractéristiques numériques et catégorielles\n",
        "preprocessor = ColumnTransformer(\n",
        "    transformers=[\n",
        "        ('num', numerical_transformer, numerical_features),\n",
        "        ('cat', categorical_transformer, categorical_features)\n",
        "    ])\n",
        "\n",
        "# Adapter et transformer les données d'entraînement avec le préprocesseur\n",
        "X_train_preprocessed = preprocessor.fit_transform(X_train)\n",
        "\n",
        "# Transformer les données de test avec le préprocesseur\n",
        "X_test_preprocessed = preprocessor.transform(X_test)\n"
      ],
      "metadata": {
        "id": "uyNHFpRTHn4i"
      },
      "execution_count": 32,
      "outputs": []
    }
  ]
}