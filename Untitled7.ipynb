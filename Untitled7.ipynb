{
  "nbformat": 4,
  "nbformat_minor": 0,
  "metadata": {
    "colab": {
      "provenance": [],
      "authorship_tag": "ABX9TyNvemzgbIqIph72IbYZ6g3L",
      "include_colab_link": true
    },
    "kernelspec": {
      "name": "python3",
      "display_name": "Python 3"
    },
    "language_info": {
      "name": "python"
    }
  },
  "cells": [
    {
      "cell_type": "markdown",
      "metadata": {
        "id": "view-in-github",
        "colab_type": "text"
      },
      "source": [
        "<a href=\"https://colab.research.google.com/github/Emnabouali/PredictionofProductSales/blob/main/Untitled7.ipynb\" target=\"_parent\"><img src=\"https://colab.research.google.com/assets/colab-badge.svg\" alt=\"Open In Colab\"/></a>"
      ]
    },
    {
      "cell_type": "code",
      "execution_count": 1,
      "metadata": {
        "colab": {
          "base_uri": "https://localhost:8080/"
        },
        "id": "W09WlHGOrB8J",
        "outputId": "37fa2a7b-52b0-4bb0-8612-a5e08d078790"
      },
      "outputs": [
        {
          "output_type": "stream",
          "name": "stdout",
          "text": [
            "Mounted at /content/drive\n"
          ]
        }
      ],
      "source": [
        "from google.colab import drive\n",
        "drive.mount('/content/drive')"
      ]
    },
    {
      "cell_type": "code",
      "source": [
        "import pandas as pd\n",
        "from sklearn.pipeline import Pipeline\n",
        "from sklearn.compose import ColumnTransformer\n",
        "from sklearn.preprocessing import OneHotEncoder, StandardScaler\n",
        "\n",
        "file_path = '/content/drive/MyDrive/Colab Notebooks/sales_predictions_2023 (1).csv'\n",
        "df = pd.read_csv(file_path)\n",
        "print(df.head())"
      ],
      "metadata": {
        "colab": {
          "base_uri": "https://localhost:8080/"
        },
        "id": "IN15dF95rnjy",
        "outputId": "3f34dd8d-c632-4074-a740-74fdf226eba6"
      },
      "execution_count": 2,
      "outputs": [
        {
          "output_type": "stream",
          "name": "stdout",
          "text": [
            "  Item_Identifier  Item_Weight Item_Fat_Content  Item_Visibility  \\\n",
            "0           FDA15         9.30          Low Fat         0.016047   \n",
            "1           DRC01         5.92          Regular         0.019278   \n",
            "2           FDN15        17.50          Low Fat         0.016760   \n",
            "3           FDX07        19.20          Regular         0.000000   \n",
            "4           NCD19         8.93          Low Fat         0.000000   \n",
            "\n",
            "               Item_Type  Item_MRP Outlet_Identifier  \\\n",
            "0                  Dairy  249.8092            OUT049   \n",
            "1            Soft Drinks   48.2692            OUT018   \n",
            "2                   Meat  141.6180            OUT049   \n",
            "3  Fruits and Vegetables  182.0950            OUT010   \n",
            "4              Household   53.8614            OUT013   \n",
            "\n",
            "   Outlet_Establishment_Year Outlet_Size Outlet_Location_Type  \\\n",
            "0                       1999      Medium               Tier 1   \n",
            "1                       2009      Medium               Tier 3   \n",
            "2                       1999      Medium               Tier 1   \n",
            "3                       1998         NaN               Tier 3   \n",
            "4                       1987        High               Tier 3   \n",
            "\n",
            "         Outlet_Type  Item_Outlet_Sales  \n",
            "0  Supermarket Type1          3735.1380  \n",
            "1  Supermarket Type2           443.4228  \n",
            "2  Supermarket Type1          2097.2700  \n",
            "3      Grocery Store           732.3800  \n",
            "4  Supermarket Type1           994.7052  \n"
          ]
        }
      ]
    },
    {
      "cell_type": "code",
      "source": [
        "import pandas as pd\n",
        "from sklearn.model_selection import train_test_split\n",
        "from sklearn.linear_model import LinearRegression\n",
        "from sklearn.metrics import r2_score\n",
        "\n",
        "file_path = '/content/drive/MyDrive/Colab Notebooks/sales_predictions_2023 (1).csv'\n",
        "df = pd.read_csv(file_path)\n",
        "\n",
        "df.dropna(inplace=True)\n",
        "df = pd.get_dummies(df, columns=['Item_Fat_Content', 'Item_Type', 'Outlet_Identifier', 'Outlet_Size', 'Outlet_Location_Type', 'Outlet_Type'])\n",
        "\n",
        "X = df.drop(columns=['Item_Identifier', 'Item_Outlet_Sales'])\n",
        "y = df['Item_Outlet_Sales']\n",
        "\n",
        "X_train, X_test, y_train, y_test = train_test_split(X, y, test_size=0.2, random_state=42)\n",
        "\n",
        "model = LinearRegression()\n",
        "model.fit(X_train, y_train)\n",
        "\n",
        "def custom_evaluation(model, X, y):\n",
        "    y_pred = model.predict(X)\n",
        "    r_squared = r2_score(y, y_pred)\n",
        "    return r_squared\n",
        "\n",
        "train_r_squared = custom_evaluation(model, X_train, y_train)\n",
        "print(\"Training R-squared:\", train_r_squared)\n",
        "\n",
        "test_r_squared = custom_evaluation(model, X_test, y_test)\n",
        "print(\"Test R-squared:\", test_r_squared)\n"
      ],
      "metadata": {
        "colab": {
          "base_uri": "https://localhost:8080/"
        },
        "id": "IMRV26E_sIAO",
        "outputId": "77c3e461-e611-4e3f-fd1e-be87b56dc091"
      },
      "execution_count": 3,
      "outputs": [
        {
          "output_type": "stream",
          "name": "stdout",
          "text": [
            "Training R-squared: 0.4669757099317374\n",
            "Test R-squared: 0.4956005424160288\n"
          ]
        }
      ]
    },
    {
      "cell_type": "code",
      "source": [
        "import pandas as pd\n",
        "from sklearn.model_selection import train_test_split\n",
        "from sklearn.ensemble import RandomForestRegressor\n",
        "from sklearn.metrics import r2_score\n",
        "\n",
        "file_path = '/content/drive/MyDrive/Colab Notebooks/sales_predictions_2023 (1).csv'\n",
        "df = pd.read_csv(file_path)\n",
        "\n",
        "df.dropna(inplace=True)\n",
        "df = pd.get_dummies(df, columns=['Item_Fat_Content', 'Item_Type', 'Outlet_Identifier', 'Outlet_Size', 'Outlet_Location_Type', 'Outlet_Type'])\n",
        "\n",
        "X = df.drop(columns=['Item_Identifier', 'Item_Outlet_Sales'])\n",
        "y = df['Item_Outlet_Sales']\n",
        "\n",
        "X_train, X_test, y_train, y_test = train_test_split(X, y, test_size=0.2, random_state=42)\n",
        "\n",
        "rf_model = RandomForestRegressor(random_state=42)\n",
        "rf_model.fit(X_train, y_train)\n",
        "\n",
        "def custom_evaluation(model, X, y):\n",
        "    y_pred = model.predict(X)\n",
        "    r_squared = r2_score(y, y_pred)\n",
        "    return r_squared\n",
        "\n",
        "train_rf_r_squared = custom_evaluation(rf_model, X_train, y_train)\n",
        "print(\"Random Forest Training R-squared:\", train_rf_r_squared)\n",
        "\n",
        "test_rf_r_squared = custom_evaluation(rf_model, X_test, y_test)\n",
        "print(\"Random Forest Test R-squared:\", test_rf_r_squared)\n",
        "\n",
        "if test_rf_r_squared > test_r_squared:\n",
        "    print(\"Random Forest model performs better on test data.\")\n",
        "elif test_rf_r_squared < test_r_squared:\n",
        "    print(\"Linear regression model performs better on test data.\")\n",
        "else:\n",
        "    print(\"Both models have similar performance on test data.\")\n"
      ],
      "metadata": {
        "colab": {
          "base_uri": "https://localhost:8080/"
        },
        "id": "FTPcOq8YsXS9",
        "outputId": "eed5ef4f-ca59-4606-e0b0-eabd16e45d15"
      },
      "execution_count": 4,
      "outputs": [
        {
          "output_type": "stream",
          "name": "stdout",
          "text": [
            "Random Forest Training R-squared: 0.9161620033498665\n",
            "Random Forest Test R-squared: 0.4456590546763646\n",
            "Linear regression model performs better on test data.\n"
          ]
        }
      ]
    },
    {
      "cell_type": "code",
      "source": [
        "import pandas as pd\n",
        "from sklearn.model_selection import train_test_split, GridSearchCV\n",
        "from sklearn.ensemble import RandomForestRegressor\n",
        "from sklearn.metrics import r2_score\n",
        "\n",
        "file_path = '/content/drive/MyDrive/Colab Notebooks/sales_predictions_2023 (1).csv'\n",
        "df = pd.read_csv(file_path)\n",
        "\n",
        "df.dropna(inplace=True)\n",
        "df = pd.get_dummies(df, columns=['Item_Fat_Content', 'Item_Type', 'Outlet_Identifier', 'Outlet_Size', 'Outlet_Location_Type', 'Outlet_Type'])\n",
        "\n",
        "X = df.drop(columns=['Item_Identifier', 'Item_Outlet_Sales'])\n",
        "y = df['Item_Outlet_Sales']\n",
        "\n",
        "X_train, X_test, y_train, y_test = train_test_split(X, y, test_size=0.2, random_state=42)\n",
        "\n",
        "param_grid = {\n",
        "    'n_estimators': [50, 100, 150],\n",
        "    'max_depth': [None, 10, 20]\n",
        "}\n",
        "\n",
        "rf_model = RandomForestRegressor(random_state=42)\n",
        "\n",
        "grid_search = GridSearchCV(estimator=rf_model, param_grid=param_grid, cv=5, scoring='r2')\n",
        "grid_search.fit(X_train, y_train)\n",
        "\n",
        "best_rf_model = grid_search.best_estimator_\n",
        "\n",
        "train_r_squared = r2_score(y_train, best_rf_model.predict(X_train))\n",
        "print(\"Best Random Forest Training R-squared:\", train_r_squared)\n",
        "\n",
        "test_r_squared = r2_score(y_test, best_rf_model.predict(X_test))\n",
        "print(\"Best Random Forest Test R-squared:\", test_r_squared)\n",
        "\n",
        "default_rf_model = RandomForestRegressor(random_state=42)\n",
        "default_rf_model.fit(X_train, y_train)\n",
        "\n",
        "default_train_r_squared = r2_score(y_train, default_rf_model.predict(X_train))\n",
        "print(\"Default Random Forest Training R-squared:\", default_train_r_squared)\n",
        "\n",
        "default_test_r_squared = r2_score(y_test, default_rf_model.predict(X_test))\n",
        "print(\"Default Random Forest Test R-squared:\", default_test_r_squared)\n"
      ],
      "metadata": {
        "colab": {
          "base_uri": "https://localhost:8080/"
        },
        "id": "uINNzIMIskDu",
        "outputId": "df00a93c-3b04-4992-ca98-2dff6b014e66"
      },
      "execution_count": 5,
      "outputs": [
        {
          "output_type": "stream",
          "name": "stdout",
          "text": [
            "Best Random Forest Training R-squared: 0.6982624513764313\n",
            "Best Random Forest Test R-squared: 0.47475378829058457\n",
            "Default Random Forest Training R-squared: 0.9161620033498665\n",
            "Default Random Forest Test R-squared: 0.4456590546763646\n"
          ]
        }
      ]
    },
    {
      "cell_type": "code",
      "source": [
        "import pandas as pd\n",
        "from sklearn.model_selection import train_test_split, GridSearchCV\n",
        "from sklearn.ensemble import RandomForestRegressor\n",
        "from sklearn.metrics import r2_score, mean_squared_error, mean_absolute_error\n",
        "\n",
        "file_path = '/content/drive/MyDrive/Colab Notebooks/sales_predictions_2023 (1).csv'\n",
        "df = pd.read_csv(file_path)\n",
        "\n",
        "df.dropna(inplace=True)\n",
        "df = pd.get_dummies(df, columns=['Item_Fat_Content', 'Item_Type', 'Outlet_Identifier', 'Outlet_Size', 'Outlet_Location_Type', 'Outlet_Type'])\n",
        "\n",
        "X = df.drop(columns=['Item_Identifier', 'Item_Outlet_Sales'])\n",
        "y = df['Item_Outlet_Sales']\n",
        "\n",
        "X_train, X_test, y_train, y_test = train_test_split(X, y, test_size=0.2, random_state=42)\n",
        "\n",
        "param_grid = {\n",
        "    'n_estimators': [50, 100, 150],\n",
        "    'max_depth': [None, 10, 20]\n",
        "}\n",
        "\n",
        "rf_model = RandomForestRegressor(random_state=42)\n",
        "\n",
        "grid_search = GridSearchCV(estimator=rf_model, param_grid=param_grid, cv=5, scoring='r2')\n",
        "grid_search.fit(X_train, y_train)\n",
        "\n",
        "best_rf_model = grid_search.best_estimator_\n",
        "\n",
        "train_r_squared = r2_score(y_train, best_rf_model.predict(X_train))\n",
        "print(\"Best Random Forest Training R-squared:\", train_r_squared)\n",
        "\n",
        "test_r_squared = r2_score(y_test, best_rf_model.predict(X_test))\n",
        "print(\"Best Random Forest Test R-squared:\", test_r_squared)\n",
        "\n",
        "default_rf_model = RandomForestRegressor(random_state=42)\n",
        "default_rf_model.fit(X_train, y_train)\n",
        "\n",
        "default_train_r_squared = r2_score(y_train, default_rf_model.predict(X_train))\n",
        "print(\"Default Random Forest Training R-squared:\", default_train_r_squared)\n",
        "\n",
        "default_test_r_squared = r2_score(y_test, default_rf_model.predict(X_test))\n",
        "print(\"Default Random Forest Test R-squared:\", default_test_r_squared)\n",
        "\n",
        "best_rmse = mean_squared_error(y_test, best_rf_model.predict(X_test), squared=False)\n",
        "print(\"Best Random Forest RMSE:\", best_rmse)\n",
        "\n",
        "default_rmse = mean_squared_error(y_test, default_rf_model.predict(X_test), squared=False)\n",
        "print(\"Default Random Forest RMSE:\", default_rmse)\n",
        "\n",
        "best_mae = mean_absolute_error(y_test, best_rf_model.predict(X_test))\n",
        "print(\"Best Random Forest MAE:\", best_mae)\n",
        "\n",
        "default_mae = mean_absolute_error(y_test, default_rf_model.predict(X_test))\n",
        "print(\"Default Random Forest MAE:\", default_mae)\n"
      ],
      "metadata": {
        "colab": {
          "base_uri": "https://localhost:8080/"
        },
        "id": "adcfyE67wE8p",
        "outputId": "bf8c9431-c3f4-4421-dbef-5f33b37e464b"
      },
      "execution_count": 6,
      "outputs": [
        {
          "output_type": "stream",
          "name": "stdout",
          "text": [
            "Best Random Forest Training R-squared: 0.6982624513764313\n",
            "Best Random Forest Test R-squared: 0.47475378829058457\n",
            "Default Random Forest Training R-squared: 0.9161620033498665\n",
            "Default Random Forest Test R-squared: 0.4456590546763646\n",
            "Best Random Forest RMSE: 1065.379879568832\n",
            "Default Random Forest RMSE: 1094.48926240748\n",
            "Best Random Forest MAE: 788.8987340926029\n",
            "Default Random Forest MAE: 809.9860918666667\n"
          ]
        }
      ]
    }
  ]
}